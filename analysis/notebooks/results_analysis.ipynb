{
 "cells": [
  {
   "cell_type": "code",
   "execution_count": 1,
   "id": "88d228e5",
   "metadata": {},
   "outputs": [
    {
     "name": "stdout",
     "output_type": "stream",
     "text": [
      "/home/cillian/phd/projects/GRIT/core/feature_extraction.py\n"
     ]
    }
   ],
   "source": [
    "import pandas as pd\n",
    "import numpy as np\n",
    "import matplotlib.pyplot as plt\n",
    "\n",
    "from igp2 import AgentState\n",
    "from igp2.data.data_loaders import InDDataLoader\n",
    "from igp2.data.episode import Frame\n",
    "from igp2.data.scenario import InDScenario, ScenarioConfig\n",
    "from igp2.opendrive.map import Map\n",
    "from igp2.opendrive.plot_map import plot_map\n",
    "from core.feature_extraction import FeatureExtractor, GoalDetector\n",
    "from core.goal_generator import GoalGenerator\n",
    "from core import feature_extraction\n",
    "print(feature_extraction.__file__)"
   ]
  },
  {
   "cell_type": "code",
   "execution_count": 2,
   "id": "0b64032d",
   "metadata": {},
   "outputs": [
    {
     "data": {
      "text/plain": [
       "(4004, 14)"
      ]
     },
     "execution_count": 2,
     "metadata": {},
     "output_type": "execute_result"
    }
   ],
   "source": [
    "odr_results = pd.read_csv('../predictions/heckstrasse_trained_trees_test.csv')\n",
    "odr_results.shape"
   ]
  },
  {
   "cell_type": "code",
   "execution_count": 3,
   "id": "daef4fb7",
   "metadata": {},
   "outputs": [
    {
     "data": {
      "text/plain": [
       "(3861, 14)"
      ]
     },
     "execution_count": 3,
     "metadata": {},
     "output_type": "execute_result"
    }
   ],
   "source": [
    "lanelet_results = pd.read_csv('../../GRIT-lanelet/predictions/heckstrasse_trained_trees_test.csv')\n",
    "lanelet_results.shape"
   ]
  },
  {
   "cell_type": "code",
   "execution_count": 4,
   "id": "e75cf3c5",
   "metadata": {},
   "outputs": [],
   "source": [
    "odr_results = pd.read_csv('../predictions/frankenberg_trained_trees_test.csv')"
   ]
  },
  {
   "cell_type": "code",
   "execution_count": 5,
   "id": "2d57c6e0",
   "metadata": {
    "scrolled": false
   },
   "outputs": [
    {
     "data": {
      "text/html": [
       "<div>\n",
       "<style scoped>\n",
       "    .dataframe tbody tr th:only-of-type {\n",
       "        vertical-align: middle;\n",
       "    }\n",
       "\n",
       "    .dataframe tbody tr th {\n",
       "        vertical-align: top;\n",
       "    }\n",
       "\n",
       "    .dataframe thead th {\n",
       "        text-align: right;\n",
       "    }\n",
       "</style>\n",
       "<table border=\"1\" class=\"dataframe\">\n",
       "  <thead>\n",
       "    <tr style=\"text-align: right;\">\n",
       "      <th></th>\n",
       "      <th>episode</th>\n",
       "      <th>agent_id</th>\n",
       "      <th>frame_id</th>\n",
       "      <th>true_goal</th>\n",
       "      <th>true_goal_type</th>\n",
       "      <th>fraction_observed</th>\n",
       "      <th>model_prediction</th>\n",
       "      <th>predicted_goal_type</th>\n",
       "      <th>model_probs</th>\n",
       "      <th>max_probs</th>\n",
       "      <th>min_probs</th>\n",
       "      <th>model_entropy</th>\n",
       "      <th>model_entropy_norm</th>\n",
       "      <th>model_correct</th>\n",
       "    </tr>\n",
       "  </thead>\n",
       "  <tbody>\n",
       "    <tr>\n",
       "      <th>0</th>\n",
       "      <td>5</td>\n",
       "      <td>0</td>\n",
       "      <td>0</td>\n",
       "      <td>3</td>\n",
       "      <td>turn-right</td>\n",
       "      <td>0.0</td>\n",
       "      <td>1</td>\n",
       "      <td>turn-left</td>\n",
       "      <td>0.654468</td>\n",
       "      <td>0.654468</td>\n",
       "      <td>0.005201</td>\n",
       "      <td>0.671625</td>\n",
       "      <td>0.611339</td>\n",
       "      <td>False</td>\n",
       "    </tr>\n",
       "    <tr>\n",
       "      <th>1</th>\n",
       "      <td>5</td>\n",
       "      <td>0</td>\n",
       "      <td>11</td>\n",
       "      <td>3</td>\n",
       "      <td>turn-right</td>\n",
       "      <td>0.1</td>\n",
       "      <td>1</td>\n",
       "      <td>turn-left</td>\n",
       "      <td>0.641046</td>\n",
       "      <td>0.641046</td>\n",
       "      <td>0.025603</td>\n",
       "      <td>0.745085</td>\n",
       "      <td>0.678206</td>\n",
       "      <td>False</td>\n",
       "    </tr>\n",
       "    <tr>\n",
       "      <th>2</th>\n",
       "      <td>5</td>\n",
       "      <td>0</td>\n",
       "      <td>22</td>\n",
       "      <td>3</td>\n",
       "      <td>turn-right</td>\n",
       "      <td>0.2</td>\n",
       "      <td>1</td>\n",
       "      <td>turn-left</td>\n",
       "      <td>0.524093</td>\n",
       "      <td>0.524093</td>\n",
       "      <td>0.033944</td>\n",
       "      <td>0.814320</td>\n",
       "      <td>0.741226</td>\n",
       "      <td>False</td>\n",
       "    </tr>\n",
       "    <tr>\n",
       "      <th>3</th>\n",
       "      <td>5</td>\n",
       "      <td>0</td>\n",
       "      <td>33</td>\n",
       "      <td>3</td>\n",
       "      <td>turn-right</td>\n",
       "      <td>0.3</td>\n",
       "      <td>3</td>\n",
       "      <td>turn-right</td>\n",
       "      <td>0.809440</td>\n",
       "      <td>0.809440</td>\n",
       "      <td>0.018095</td>\n",
       "      <td>0.546843</td>\n",
       "      <td>0.497758</td>\n",
       "      <td>True</td>\n",
       "    </tr>\n",
       "    <tr>\n",
       "      <th>4</th>\n",
       "      <td>5</td>\n",
       "      <td>0</td>\n",
       "      <td>44</td>\n",
       "      <td>3</td>\n",
       "      <td>turn-right</td>\n",
       "      <td>0.4</td>\n",
       "      <td>3</td>\n",
       "      <td>turn-right</td>\n",
       "      <td>0.975829</td>\n",
       "      <td>0.975829</td>\n",
       "      <td>0.002356</td>\n",
       "      <td>0.121578</td>\n",
       "      <td>0.110665</td>\n",
       "      <td>True</td>\n",
       "    </tr>\n",
       "    <tr>\n",
       "      <th>...</th>\n",
       "      <td>...</td>\n",
       "      <td>...</td>\n",
       "      <td>...</td>\n",
       "      <td>...</td>\n",
       "      <td>...</td>\n",
       "      <td>...</td>\n",
       "      <td>...</td>\n",
       "      <td>...</td>\n",
       "      <td>...</td>\n",
       "      <td>...</td>\n",
       "      <td>...</td>\n",
       "      <td>...</td>\n",
       "      <td>...</td>\n",
       "      <td>...</td>\n",
       "    </tr>\n",
       "    <tr>\n",
       "      <th>1909</th>\n",
       "      <td>5</td>\n",
       "      <td>556</td>\n",
       "      <td>30887</td>\n",
       "      <td>0</td>\n",
       "      <td>turn-right</td>\n",
       "      <td>0.6</td>\n",
       "      <td>0</td>\n",
       "      <td>turn-right</td>\n",
       "      <td>0.546266</td>\n",
       "      <td>0.546266</td>\n",
       "      <td>0.001035</td>\n",
       "      <td>0.696188</td>\n",
       "      <td>0.633697</td>\n",
       "      <td>True</td>\n",
       "    </tr>\n",
       "    <tr>\n",
       "      <th>1910</th>\n",
       "      <td>5</td>\n",
       "      <td>556</td>\n",
       "      <td>30912</td>\n",
       "      <td>0</td>\n",
       "      <td>turn-right</td>\n",
       "      <td>0.7</td>\n",
       "      <td>3</td>\n",
       "      <td>straight-on</td>\n",
       "      <td>0.772648</td>\n",
       "      <td>0.772648</td>\n",
       "      <td>0.001149</td>\n",
       "      <td>0.543276</td>\n",
       "      <td>0.494511</td>\n",
       "      <td>False</td>\n",
       "    </tr>\n",
       "    <tr>\n",
       "      <th>1911</th>\n",
       "      <td>5</td>\n",
       "      <td>556</td>\n",
       "      <td>30937</td>\n",
       "      <td>0</td>\n",
       "      <td>turn-right</td>\n",
       "      <td>0.8</td>\n",
       "      <td>0</td>\n",
       "      <td>turn-right</td>\n",
       "      <td>0.545648</td>\n",
       "      <td>0.545648</td>\n",
       "      <td>0.002163</td>\n",
       "      <td>0.702700</td>\n",
       "      <td>0.639625</td>\n",
       "      <td>True</td>\n",
       "    </tr>\n",
       "    <tr>\n",
       "      <th>1912</th>\n",
       "      <td>5</td>\n",
       "      <td>556</td>\n",
       "      <td>30962</td>\n",
       "      <td>0</td>\n",
       "      <td>turn-right</td>\n",
       "      <td>0.9</td>\n",
       "      <td>0</td>\n",
       "      <td>turn-right</td>\n",
       "      <td>0.995416</td>\n",
       "      <td>0.995416</td>\n",
       "      <td>0.002282</td>\n",
       "      <td>0.032437</td>\n",
       "      <td>0.029525</td>\n",
       "      <td>True</td>\n",
       "    </tr>\n",
       "    <tr>\n",
       "      <th>1913</th>\n",
       "      <td>5</td>\n",
       "      <td>556</td>\n",
       "      <td>30987</td>\n",
       "      <td>0</td>\n",
       "      <td>turn-right</td>\n",
       "      <td>1.0</td>\n",
       "      <td>0</td>\n",
       "      <td>turn-right</td>\n",
       "      <td>0.995416</td>\n",
       "      <td>0.995416</td>\n",
       "      <td>0.002282</td>\n",
       "      <td>0.032437</td>\n",
       "      <td>0.029525</td>\n",
       "      <td>True</td>\n",
       "    </tr>\n",
       "  </tbody>\n",
       "</table>\n",
       "<p>1914 rows × 14 columns</p>\n",
       "</div>"
      ],
      "text/plain": [
       "      episode  agent_id  frame_id  true_goal true_goal_type  \\\n",
       "0           5         0         0          3     turn-right   \n",
       "1           5         0        11          3     turn-right   \n",
       "2           5         0        22          3     turn-right   \n",
       "3           5         0        33          3     turn-right   \n",
       "4           5         0        44          3     turn-right   \n",
       "...       ...       ...       ...        ...            ...   \n",
       "1909        5       556     30887          0     turn-right   \n",
       "1910        5       556     30912          0     turn-right   \n",
       "1911        5       556     30937          0     turn-right   \n",
       "1912        5       556     30962          0     turn-right   \n",
       "1913        5       556     30987          0     turn-right   \n",
       "\n",
       "      fraction_observed  model_prediction predicted_goal_type  model_probs  \\\n",
       "0                   0.0                 1           turn-left     0.654468   \n",
       "1                   0.1                 1           turn-left     0.641046   \n",
       "2                   0.2                 1           turn-left     0.524093   \n",
       "3                   0.3                 3          turn-right     0.809440   \n",
       "4                   0.4                 3          turn-right     0.975829   \n",
       "...                 ...               ...                 ...          ...   \n",
       "1909                0.6                 0          turn-right     0.546266   \n",
       "1910                0.7                 3         straight-on     0.772648   \n",
       "1911                0.8                 0          turn-right     0.545648   \n",
       "1912                0.9                 0          turn-right     0.995416   \n",
       "1913                1.0                 0          turn-right     0.995416   \n",
       "\n",
       "      max_probs  min_probs  model_entropy  model_entropy_norm  model_correct  \n",
       "0      0.654468   0.005201       0.671625            0.611339          False  \n",
       "1      0.641046   0.025603       0.745085            0.678206          False  \n",
       "2      0.524093   0.033944       0.814320            0.741226          False  \n",
       "3      0.809440   0.018095       0.546843            0.497758           True  \n",
       "4      0.975829   0.002356       0.121578            0.110665           True  \n",
       "...         ...        ...            ...                 ...            ...  \n",
       "1909   0.546266   0.001035       0.696188            0.633697           True  \n",
       "1910   0.772648   0.001149       0.543276            0.494511          False  \n",
       "1911   0.545648   0.002163       0.702700            0.639625           True  \n",
       "1912   0.995416   0.002282       0.032437            0.029525           True  \n",
       "1913   0.995416   0.002282       0.032437            0.029525           True  \n",
       "\n",
       "[1914 rows x 14 columns]"
      ]
     },
     "execution_count": 5,
     "metadata": {},
     "output_type": "execute_result"
    }
   ],
   "source": [
    "odr_results"
   ]
  },
  {
   "cell_type": "code",
   "execution_count": 6,
   "id": "cc69902e",
   "metadata": {},
   "outputs": [],
   "source": [
    "lanelet_results = pd.read_csv('../../GRIT-lanelet/predictions/frankenberg_trained_trees_test.csv')"
   ]
  },
  {
   "cell_type": "code",
   "execution_count": 7,
   "id": "f77cd254",
   "metadata": {},
   "outputs": [
    {
     "data": {
      "text/html": [
       "<div>\n",
       "<style scoped>\n",
       "    .dataframe tbody tr th:only-of-type {\n",
       "        vertical-align: middle;\n",
       "    }\n",
       "\n",
       "    .dataframe tbody tr th {\n",
       "        vertical-align: top;\n",
       "    }\n",
       "\n",
       "    .dataframe thead th {\n",
       "        text-align: right;\n",
       "    }\n",
       "</style>\n",
       "<table border=\"1\" class=\"dataframe\">\n",
       "  <thead>\n",
       "    <tr style=\"text-align: right;\">\n",
       "      <th></th>\n",
       "      <th>episode</th>\n",
       "      <th>agent_id</th>\n",
       "      <th>frame_id</th>\n",
       "      <th>true_goal</th>\n",
       "      <th>true_goal_type</th>\n",
       "      <th>fraction_observed</th>\n",
       "      <th>model_prediction</th>\n",
       "      <th>predicted_goal_type</th>\n",
       "      <th>model_probs</th>\n",
       "      <th>max_probs</th>\n",
       "      <th>min_probs</th>\n",
       "      <th>model_entropy</th>\n",
       "      <th>model_entropy_norm</th>\n",
       "      <th>model_correct</th>\n",
       "    </tr>\n",
       "  </thead>\n",
       "  <tbody>\n",
       "    <tr>\n",
       "      <th>0</th>\n",
       "      <td>5</td>\n",
       "      <td>2</td>\n",
       "      <td>0</td>\n",
       "      <td>0</td>\n",
       "      <td>turn-right</td>\n",
       "      <td>0.0</td>\n",
       "      <td>3</td>\n",
       "      <td>straight-on</td>\n",
       "      <td>0.511688</td>\n",
       "      <td>0.511688</td>\n",
       "      <td>0.014183</td>\n",
       "      <td>0.757040</td>\n",
       "      <td>0.689088</td>\n",
       "      <td>False</td>\n",
       "    </tr>\n",
       "    <tr>\n",
       "      <th>1</th>\n",
       "      <td>5</td>\n",
       "      <td>2</td>\n",
       "      <td>31</td>\n",
       "      <td>0</td>\n",
       "      <td>turn-right</td>\n",
       "      <td>0.1</td>\n",
       "      <td>3</td>\n",
       "      <td>straight-on</td>\n",
       "      <td>0.516236</td>\n",
       "      <td>0.516236</td>\n",
       "      <td>0.005422</td>\n",
       "      <td>0.722361</td>\n",
       "      <td>0.657521</td>\n",
       "      <td>False</td>\n",
       "    </tr>\n",
       "    <tr>\n",
       "      <th>2</th>\n",
       "      <td>5</td>\n",
       "      <td>2</td>\n",
       "      <td>62</td>\n",
       "      <td>0</td>\n",
       "      <td>turn-right</td>\n",
       "      <td>0.2</td>\n",
       "      <td>3</td>\n",
       "      <td>straight-on</td>\n",
       "      <td>0.622196</td>\n",
       "      <td>0.622196</td>\n",
       "      <td>0.019321</td>\n",
       "      <td>0.739243</td>\n",
       "      <td>0.672888</td>\n",
       "      <td>False</td>\n",
       "    </tr>\n",
       "    <tr>\n",
       "      <th>3</th>\n",
       "      <td>5</td>\n",
       "      <td>2</td>\n",
       "      <td>93</td>\n",
       "      <td>0</td>\n",
       "      <td>turn-right</td>\n",
       "      <td>0.3</td>\n",
       "      <td>3</td>\n",
       "      <td>straight-on</td>\n",
       "      <td>0.631474</td>\n",
       "      <td>0.631474</td>\n",
       "      <td>0.004698</td>\n",
       "      <td>0.683327</td>\n",
       "      <td>0.621991</td>\n",
       "      <td>False</td>\n",
       "    </tr>\n",
       "    <tr>\n",
       "      <th>4</th>\n",
       "      <td>5</td>\n",
       "      <td>2</td>\n",
       "      <td>124</td>\n",
       "      <td>0</td>\n",
       "      <td>turn-right</td>\n",
       "      <td>0.4</td>\n",
       "      <td>3</td>\n",
       "      <td>straight-on</td>\n",
       "      <td>0.668759</td>\n",
       "      <td>0.668759</td>\n",
       "      <td>0.009246</td>\n",
       "      <td>0.677259</td>\n",
       "      <td>0.616467</td>\n",
       "      <td>False</td>\n",
       "    </tr>\n",
       "    <tr>\n",
       "      <th>...</th>\n",
       "      <td>...</td>\n",
       "      <td>...</td>\n",
       "      <td>...</td>\n",
       "      <td>...</td>\n",
       "      <td>...</td>\n",
       "      <td>...</td>\n",
       "      <td>...</td>\n",
       "      <td>...</td>\n",
       "      <td>...</td>\n",
       "      <td>...</td>\n",
       "      <td>...</td>\n",
       "      <td>...</td>\n",
       "      <td>...</td>\n",
       "      <td>...</td>\n",
       "    </tr>\n",
       "    <tr>\n",
       "      <th>1843</th>\n",
       "      <td>5</td>\n",
       "      <td>556</td>\n",
       "      <td>30887</td>\n",
       "      <td>0</td>\n",
       "      <td>turn-right</td>\n",
       "      <td>0.6</td>\n",
       "      <td>3</td>\n",
       "      <td>straight-on</td>\n",
       "      <td>0.671882</td>\n",
       "      <td>0.671882</td>\n",
       "      <td>0.004618</td>\n",
       "      <td>0.657112</td>\n",
       "      <td>0.598129</td>\n",
       "      <td>False</td>\n",
       "    </tr>\n",
       "    <tr>\n",
       "      <th>1844</th>\n",
       "      <td>5</td>\n",
       "      <td>556</td>\n",
       "      <td>30912</td>\n",
       "      <td>0</td>\n",
       "      <td>turn-right</td>\n",
       "      <td>0.7</td>\n",
       "      <td>3</td>\n",
       "      <td>straight-on</td>\n",
       "      <td>0.671882</td>\n",
       "      <td>0.671882</td>\n",
       "      <td>0.004618</td>\n",
       "      <td>0.657112</td>\n",
       "      <td>0.598129</td>\n",
       "      <td>False</td>\n",
       "    </tr>\n",
       "    <tr>\n",
       "      <th>1845</th>\n",
       "      <td>5</td>\n",
       "      <td>556</td>\n",
       "      <td>30937</td>\n",
       "      <td>0</td>\n",
       "      <td>turn-right</td>\n",
       "      <td>0.8</td>\n",
       "      <td>3</td>\n",
       "      <td>straight-on</td>\n",
       "      <td>0.659791</td>\n",
       "      <td>0.659791</td>\n",
       "      <td>0.022531</td>\n",
       "      <td>0.724107</td>\n",
       "      <td>0.659111</td>\n",
       "      <td>False</td>\n",
       "    </tr>\n",
       "    <tr>\n",
       "      <th>1846</th>\n",
       "      <td>5</td>\n",
       "      <td>556</td>\n",
       "      <td>30962</td>\n",
       "      <td>0</td>\n",
       "      <td>turn-right</td>\n",
       "      <td>0.9</td>\n",
       "      <td>0</td>\n",
       "      <td>turn-right</td>\n",
       "      <td>0.692602</td>\n",
       "      <td>0.692602</td>\n",
       "      <td>0.005393</td>\n",
       "      <td>0.644153</td>\n",
       "      <td>0.586334</td>\n",
       "      <td>True</td>\n",
       "    </tr>\n",
       "    <tr>\n",
       "      <th>1847</th>\n",
       "      <td>5</td>\n",
       "      <td>556</td>\n",
       "      <td>30987</td>\n",
       "      <td>0</td>\n",
       "      <td>turn-right</td>\n",
       "      <td>1.0</td>\n",
       "      <td>0</td>\n",
       "      <td>turn-right</td>\n",
       "      <td>0.976259</td>\n",
       "      <td>0.976259</td>\n",
       "      <td>0.023741</td>\n",
       "      <td>0.112261</td>\n",
       "      <td>0.161958</td>\n",
       "      <td>True</td>\n",
       "    </tr>\n",
       "  </tbody>\n",
       "</table>\n",
       "<p>1848 rows × 14 columns</p>\n",
       "</div>"
      ],
      "text/plain": [
       "      episode  agent_id  frame_id  true_goal true_goal_type  \\\n",
       "0           5         2         0          0     turn-right   \n",
       "1           5         2        31          0     turn-right   \n",
       "2           5         2        62          0     turn-right   \n",
       "3           5         2        93          0     turn-right   \n",
       "4           5         2       124          0     turn-right   \n",
       "...       ...       ...       ...        ...            ...   \n",
       "1843        5       556     30887          0     turn-right   \n",
       "1844        5       556     30912          0     turn-right   \n",
       "1845        5       556     30937          0     turn-right   \n",
       "1846        5       556     30962          0     turn-right   \n",
       "1847        5       556     30987          0     turn-right   \n",
       "\n",
       "      fraction_observed  model_prediction predicted_goal_type  model_probs  \\\n",
       "0                   0.0                 3         straight-on     0.511688   \n",
       "1                   0.1                 3         straight-on     0.516236   \n",
       "2                   0.2                 3         straight-on     0.622196   \n",
       "3                   0.3                 3         straight-on     0.631474   \n",
       "4                   0.4                 3         straight-on     0.668759   \n",
       "...                 ...               ...                 ...          ...   \n",
       "1843                0.6                 3         straight-on     0.671882   \n",
       "1844                0.7                 3         straight-on     0.671882   \n",
       "1845                0.8                 3         straight-on     0.659791   \n",
       "1846                0.9                 0          turn-right     0.692602   \n",
       "1847                1.0                 0          turn-right     0.976259   \n",
       "\n",
       "      max_probs  min_probs  model_entropy  model_entropy_norm  model_correct  \n",
       "0      0.511688   0.014183       0.757040            0.689088          False  \n",
       "1      0.516236   0.005422       0.722361            0.657521          False  \n",
       "2      0.622196   0.019321       0.739243            0.672888          False  \n",
       "3      0.631474   0.004698       0.683327            0.621991          False  \n",
       "4      0.668759   0.009246       0.677259            0.616467          False  \n",
       "...         ...        ...            ...                 ...            ...  \n",
       "1843   0.671882   0.004618       0.657112            0.598129          False  \n",
       "1844   0.671882   0.004618       0.657112            0.598129          False  \n",
       "1845   0.659791   0.022531       0.724107            0.659111          False  \n",
       "1846   0.692602   0.005393       0.644153            0.586334           True  \n",
       "1847   0.976259   0.023741       0.112261            0.161958           True  \n",
       "\n",
       "[1848 rows x 14 columns]"
      ]
     },
     "execution_count": 7,
     "metadata": {},
     "output_type": "execute_result"
    }
   ],
   "source": [
    "lanelet_results"
   ]
  },
  {
   "cell_type": "code",
   "execution_count": 8,
   "id": "ac037435",
   "metadata": {},
   "outputs": [
    {
     "data": {
      "text/html": [
       "<div>\n",
       "<style scoped>\n",
       "    .dataframe tbody tr th:only-of-type {\n",
       "        vertical-align: middle;\n",
       "    }\n",
       "\n",
       "    .dataframe tbody tr th {\n",
       "        vertical-align: top;\n",
       "    }\n",
       "\n",
       "    .dataframe thead th {\n",
       "        text-align: right;\n",
       "    }\n",
       "</style>\n",
       "<table border=\"1\" class=\"dataframe\">\n",
       "  <thead>\n",
       "    <tr style=\"text-align: right;\">\n",
       "      <th></th>\n",
       "      <th>episode</th>\n",
       "      <th>agent_id</th>\n",
       "    </tr>\n",
       "  </thead>\n",
       "  <tbody>\n",
       "    <tr>\n",
       "      <th>0</th>\n",
       "      <td>5</td>\n",
       "      <td>2</td>\n",
       "    </tr>\n",
       "    <tr>\n",
       "      <th>11</th>\n",
       "      <td>5</td>\n",
       "      <td>4</td>\n",
       "    </tr>\n",
       "    <tr>\n",
       "      <th>22</th>\n",
       "      <td>5</td>\n",
       "      <td>41</td>\n",
       "    </tr>\n",
       "    <tr>\n",
       "      <th>33</th>\n",
       "      <td>5</td>\n",
       "      <td>45</td>\n",
       "    </tr>\n",
       "    <tr>\n",
       "      <th>44</th>\n",
       "      <td>5</td>\n",
       "      <td>46</td>\n",
       "    </tr>\n",
       "    <tr>\n",
       "      <th>...</th>\n",
       "      <td>...</td>\n",
       "      <td>...</td>\n",
       "    </tr>\n",
       "    <tr>\n",
       "      <th>1793</th>\n",
       "      <td>5</td>\n",
       "      <td>545</td>\n",
       "    </tr>\n",
       "    <tr>\n",
       "      <th>1804</th>\n",
       "      <td>5</td>\n",
       "      <td>546</td>\n",
       "    </tr>\n",
       "    <tr>\n",
       "      <th>1815</th>\n",
       "      <td>5</td>\n",
       "      <td>547</td>\n",
       "    </tr>\n",
       "    <tr>\n",
       "      <th>1826</th>\n",
       "      <td>5</td>\n",
       "      <td>550</td>\n",
       "    </tr>\n",
       "    <tr>\n",
       "      <th>1837</th>\n",
       "      <td>5</td>\n",
       "      <td>556</td>\n",
       "    </tr>\n",
       "  </tbody>\n",
       "</table>\n",
       "<p>168 rows × 2 columns</p>\n",
       "</div>"
      ],
      "text/plain": [
       "      episode  agent_id\n",
       "0           5         2\n",
       "11          5         4\n",
       "22          5        41\n",
       "33          5        45\n",
       "44          5        46\n",
       "...       ...       ...\n",
       "1793        5       545\n",
       "1804        5       546\n",
       "1815        5       547\n",
       "1826        5       550\n",
       "1837        5       556\n",
       "\n",
       "[168 rows x 2 columns]"
      ]
     },
     "execution_count": 8,
     "metadata": {},
     "output_type": "execute_result"
    }
   ],
   "source": [
    "lanelet_results[['episode', 'agent_id']].drop_duplicates()"
   ]
  },
  {
   "cell_type": "code",
   "execution_count": 9,
   "id": "0d1074e4",
   "metadata": {},
   "outputs": [
    {
     "data": {
      "text/html": [
       "<div>\n",
       "<style scoped>\n",
       "    .dataframe tbody tr th:only-of-type {\n",
       "        vertical-align: middle;\n",
       "    }\n",
       "\n",
       "    .dataframe tbody tr th {\n",
       "        vertical-align: top;\n",
       "    }\n",
       "\n",
       "    .dataframe thead th {\n",
       "        text-align: right;\n",
       "    }\n",
       "</style>\n",
       "<table border=\"1\" class=\"dataframe\">\n",
       "  <thead>\n",
       "    <tr style=\"text-align: right;\">\n",
       "      <th></th>\n",
       "      <th>episode</th>\n",
       "      <th>agent_id</th>\n",
       "    </tr>\n",
       "  </thead>\n",
       "  <tbody>\n",
       "    <tr>\n",
       "      <th>0</th>\n",
       "      <td>5</td>\n",
       "      <td>0</td>\n",
       "    </tr>\n",
       "    <tr>\n",
       "      <th>11</th>\n",
       "      <td>5</td>\n",
       "      <td>2</td>\n",
       "    </tr>\n",
       "    <tr>\n",
       "      <th>22</th>\n",
       "      <td>5</td>\n",
       "      <td>4</td>\n",
       "    </tr>\n",
       "    <tr>\n",
       "      <th>33</th>\n",
       "      <td>5</td>\n",
       "      <td>41</td>\n",
       "    </tr>\n",
       "    <tr>\n",
       "      <th>44</th>\n",
       "      <td>5</td>\n",
       "      <td>45</td>\n",
       "    </tr>\n",
       "    <tr>\n",
       "      <th>...</th>\n",
       "      <td>...</td>\n",
       "      <td>...</td>\n",
       "    </tr>\n",
       "    <tr>\n",
       "      <th>1859</th>\n",
       "      <td>5</td>\n",
       "      <td>545</td>\n",
       "    </tr>\n",
       "    <tr>\n",
       "      <th>1870</th>\n",
       "      <td>5</td>\n",
       "      <td>546</td>\n",
       "    </tr>\n",
       "    <tr>\n",
       "      <th>1881</th>\n",
       "      <td>5</td>\n",
       "      <td>550</td>\n",
       "    </tr>\n",
       "    <tr>\n",
       "      <th>1892</th>\n",
       "      <td>5</td>\n",
       "      <td>552</td>\n",
       "    </tr>\n",
       "    <tr>\n",
       "      <th>1903</th>\n",
       "      <td>5</td>\n",
       "      <td>556</td>\n",
       "    </tr>\n",
       "  </tbody>\n",
       "</table>\n",
       "<p>174 rows × 2 columns</p>\n",
       "</div>"
      ],
      "text/plain": [
       "      episode  agent_id\n",
       "0           5         0\n",
       "11          5         2\n",
       "22          5         4\n",
       "33          5        41\n",
       "44          5        45\n",
       "...       ...       ...\n",
       "1859        5       545\n",
       "1870        5       546\n",
       "1881        5       550\n",
       "1892        5       552\n",
       "1903        5       556\n",
       "\n",
       "[174 rows x 2 columns]"
      ]
     },
     "execution_count": 9,
     "metadata": {},
     "output_type": "execute_result"
    }
   ],
   "source": [
    "odr_results[['episode', 'agent_id']].drop_duplicates()"
   ]
  },
  {
   "cell_type": "code",
   "execution_count": 10,
   "id": "af467b8d",
   "metadata": {},
   "outputs": [],
   "source": [
    "lanelet_agents = lanelet_results.agent_id.drop_duplicates()\n",
    "odr_agents = odr_results.agent_id.drop_duplicates()"
   ]
  },
  {
   "cell_type": "code",
   "execution_count": 11,
   "id": "e51758b2",
   "metadata": {},
   "outputs": [
    {
     "data": {
      "text/plain": [
       "162"
      ]
     },
     "execution_count": 11,
     "metadata": {},
     "output_type": "execute_result"
    }
   ],
   "source": [
    "lanelet_agents.isin(odr_agents).sum()"
   ]
  },
  {
   "cell_type": "code",
   "execution_count": 12,
   "id": "cefa2ac0",
   "metadata": {},
   "outputs": [
    {
     "data": {
      "text/plain": [
       "(168,)"
      ]
     },
     "execution_count": 12,
     "metadata": {},
     "output_type": "execute_result"
    }
   ],
   "source": [
    "lanelet_agents.shape"
   ]
  },
  {
   "cell_type": "code",
   "execution_count": 13,
   "id": "a63b33ed",
   "metadata": {},
   "outputs": [
    {
     "data": {
      "text/plain": [
       "162"
      ]
     },
     "execution_count": 13,
     "metadata": {},
     "output_type": "execute_result"
    }
   ],
   "source": [
    "odr_agents.isin(lanelet_agents).sum()"
   ]
  },
  {
   "cell_type": "code",
   "execution_count": 14,
   "id": "4852bc79",
   "metadata": {},
   "outputs": [
    {
     "data": {
      "text/plain": [
       "(174,)"
      ]
     },
     "execution_count": 14,
     "metadata": {},
     "output_type": "execute_result"
    }
   ],
   "source": [
    "odr_agents.shape"
   ]
  },
  {
   "cell_type": "code",
   "execution_count": 15,
   "id": "e7ba35ea",
   "metadata": {},
   "outputs": [
    {
     "data": {
      "text/plain": [
       "187      75\n",
       "308     103\n",
       "396     126\n",
       "968     285\n",
       "1661    505\n",
       "1815    547\n",
       "Name: agent_id, dtype: int64"
      ]
     },
     "execution_count": 15,
     "metadata": {},
     "output_type": "execute_result"
    }
   ],
   "source": [
    "lanelet_agents.loc[~lanelet_agents.isin(odr_agents)]"
   ]
  },
  {
   "cell_type": "code",
   "execution_count": 16,
   "id": "86e70da7",
   "metadata": {},
   "outputs": [
    {
     "data": {
      "text/html": [
       "<div>\n",
       "<style scoped>\n",
       "    .dataframe tbody tr th:only-of-type {\n",
       "        vertical-align: middle;\n",
       "    }\n",
       "\n",
       "    .dataframe tbody tr th {\n",
       "        vertical-align: top;\n",
       "    }\n",
       "\n",
       "    .dataframe thead th {\n",
       "        text-align: right;\n",
       "    }\n",
       "</style>\n",
       "<table border=\"1\" class=\"dataframe\">\n",
       "  <thead>\n",
       "    <tr style=\"text-align: right;\">\n",
       "      <th></th>\n",
       "      <th>episode</th>\n",
       "      <th>agent_id</th>\n",
       "      <th>frame_id</th>\n",
       "      <th>true_goal</th>\n",
       "      <th>true_goal_type</th>\n",
       "      <th>fraction_observed</th>\n",
       "      <th>model_prediction</th>\n",
       "      <th>predicted_goal_type</th>\n",
       "      <th>model_probs</th>\n",
       "      <th>max_probs</th>\n",
       "      <th>min_probs</th>\n",
       "      <th>model_entropy</th>\n",
       "      <th>model_entropy_norm</th>\n",
       "      <th>model_correct</th>\n",
       "    </tr>\n",
       "  </thead>\n",
       "  <tbody>\n",
       "    <tr>\n",
       "      <th>187</th>\n",
       "      <td>5</td>\n",
       "      <td>75</td>\n",
       "      <td>3046</td>\n",
       "      <td>0</td>\n",
       "      <td>turn-right</td>\n",
       "      <td>0.0</td>\n",
       "      <td>3</td>\n",
       "      <td>straight-on</td>\n",
       "      <td>0.670977</td>\n",
       "      <td>0.670977</td>\n",
       "      <td>0.005959</td>\n",
       "      <td>0.663293</td>\n",
       "      <td>0.603755</td>\n",
       "      <td>False</td>\n",
       "    </tr>\n",
       "    <tr>\n",
       "      <th>188</th>\n",
       "      <td>5</td>\n",
       "      <td>75</td>\n",
       "      <td>3064</td>\n",
       "      <td>0</td>\n",
       "      <td>turn-right</td>\n",
       "      <td>0.1</td>\n",
       "      <td>3</td>\n",
       "      <td>straight-on</td>\n",
       "      <td>0.659791</td>\n",
       "      <td>0.659791</td>\n",
       "      <td>0.022531</td>\n",
       "      <td>0.724107</td>\n",
       "      <td>0.659111</td>\n",
       "      <td>False</td>\n",
       "    </tr>\n",
       "    <tr>\n",
       "      <th>189</th>\n",
       "      <td>5</td>\n",
       "      <td>75</td>\n",
       "      <td>3082</td>\n",
       "      <td>0</td>\n",
       "      <td>turn-right</td>\n",
       "      <td>0.2</td>\n",
       "      <td>3</td>\n",
       "      <td>straight-on</td>\n",
       "      <td>0.659791</td>\n",
       "      <td>0.659791</td>\n",
       "      <td>0.022531</td>\n",
       "      <td>0.724107</td>\n",
       "      <td>0.659111</td>\n",
       "      <td>False</td>\n",
       "    </tr>\n",
       "    <tr>\n",
       "      <th>190</th>\n",
       "      <td>5</td>\n",
       "      <td>75</td>\n",
       "      <td>3100</td>\n",
       "      <td>0</td>\n",
       "      <td>turn-right</td>\n",
       "      <td>0.3</td>\n",
       "      <td>3</td>\n",
       "      <td>straight-on</td>\n",
       "      <td>0.659791</td>\n",
       "      <td>0.659791</td>\n",
       "      <td>0.022531</td>\n",
       "      <td>0.724107</td>\n",
       "      <td>0.659111</td>\n",
       "      <td>False</td>\n",
       "    </tr>\n",
       "    <tr>\n",
       "      <th>191</th>\n",
       "      <td>5</td>\n",
       "      <td>75</td>\n",
       "      <td>3118</td>\n",
       "      <td>0</td>\n",
       "      <td>turn-right</td>\n",
       "      <td>0.4</td>\n",
       "      <td>3</td>\n",
       "      <td>straight-on</td>\n",
       "      <td>0.673730</td>\n",
       "      <td>0.673730</td>\n",
       "      <td>0.001881</td>\n",
       "      <td>0.643080</td>\n",
       "      <td>0.585356</td>\n",
       "      <td>False</td>\n",
       "    </tr>\n",
       "    <tr>\n",
       "      <th>192</th>\n",
       "      <td>5</td>\n",
       "      <td>75</td>\n",
       "      <td>3136</td>\n",
       "      <td>0</td>\n",
       "      <td>turn-right</td>\n",
       "      <td>0.5</td>\n",
       "      <td>3</td>\n",
       "      <td>straight-on</td>\n",
       "      <td>0.673730</td>\n",
       "      <td>0.673730</td>\n",
       "      <td>0.001881</td>\n",
       "      <td>0.643080</td>\n",
       "      <td>0.585356</td>\n",
       "      <td>False</td>\n",
       "    </tr>\n",
       "    <tr>\n",
       "      <th>193</th>\n",
       "      <td>5</td>\n",
       "      <td>75</td>\n",
       "      <td>3154</td>\n",
       "      <td>0</td>\n",
       "      <td>turn-right</td>\n",
       "      <td>0.6</td>\n",
       "      <td>3</td>\n",
       "      <td>straight-on</td>\n",
       "      <td>0.512639</td>\n",
       "      <td>0.512639</td>\n",
       "      <td>0.012351</td>\n",
       "      <td>0.750412</td>\n",
       "      <td>0.683055</td>\n",
       "      <td>False</td>\n",
       "    </tr>\n",
       "    <tr>\n",
       "      <th>194</th>\n",
       "      <td>5</td>\n",
       "      <td>75</td>\n",
       "      <td>3172</td>\n",
       "      <td>0</td>\n",
       "      <td>turn-right</td>\n",
       "      <td>0.7</td>\n",
       "      <td>3</td>\n",
       "      <td>straight-on</td>\n",
       "      <td>0.516356</td>\n",
       "      <td>0.516356</td>\n",
       "      <td>0.005190</td>\n",
       "      <td>0.721310</td>\n",
       "      <td>0.656565</td>\n",
       "      <td>False</td>\n",
       "    </tr>\n",
       "    <tr>\n",
       "      <th>195</th>\n",
       "      <td>5</td>\n",
       "      <td>75</td>\n",
       "      <td>3190</td>\n",
       "      <td>0</td>\n",
       "      <td>turn-right</td>\n",
       "      <td>0.8</td>\n",
       "      <td>3</td>\n",
       "      <td>straight-on</td>\n",
       "      <td>0.659265</td>\n",
       "      <td>0.659265</td>\n",
       "      <td>0.023311</td>\n",
       "      <td>0.726541</td>\n",
       "      <td>0.661326</td>\n",
       "      <td>False</td>\n",
       "    </tr>\n",
       "    <tr>\n",
       "      <th>196</th>\n",
       "      <td>5</td>\n",
       "      <td>75</td>\n",
       "      <td>3208</td>\n",
       "      <td>0</td>\n",
       "      <td>turn-right</td>\n",
       "      <td>0.9</td>\n",
       "      <td>0</td>\n",
       "      <td>turn-right</td>\n",
       "      <td>0.967509</td>\n",
       "      <td>0.967509</td>\n",
       "      <td>0.007534</td>\n",
       "      <td>0.160892</td>\n",
       "      <td>0.146450</td>\n",
       "      <td>True</td>\n",
       "    </tr>\n",
       "    <tr>\n",
       "      <th>197</th>\n",
       "      <td>5</td>\n",
       "      <td>75</td>\n",
       "      <td>3226</td>\n",
       "      <td>0</td>\n",
       "      <td>turn-right</td>\n",
       "      <td>1.0</td>\n",
       "      <td>0</td>\n",
       "      <td>turn-right</td>\n",
       "      <td>0.962370</td>\n",
       "      <td>0.962370</td>\n",
       "      <td>0.014227</td>\n",
       "      <td>0.185290</td>\n",
       "      <td>0.168658</td>\n",
       "      <td>True</td>\n",
       "    </tr>\n",
       "  </tbody>\n",
       "</table>\n",
       "</div>"
      ],
      "text/plain": [
       "     episode  agent_id  frame_id  true_goal true_goal_type  fraction_observed  \\\n",
       "187        5        75      3046          0     turn-right                0.0   \n",
       "188        5        75      3064          0     turn-right                0.1   \n",
       "189        5        75      3082          0     turn-right                0.2   \n",
       "190        5        75      3100          0     turn-right                0.3   \n",
       "191        5        75      3118          0     turn-right                0.4   \n",
       "192        5        75      3136          0     turn-right                0.5   \n",
       "193        5        75      3154          0     turn-right                0.6   \n",
       "194        5        75      3172          0     turn-right                0.7   \n",
       "195        5        75      3190          0     turn-right                0.8   \n",
       "196        5        75      3208          0     turn-right                0.9   \n",
       "197        5        75      3226          0     turn-right                1.0   \n",
       "\n",
       "     model_prediction predicted_goal_type  model_probs  max_probs  min_probs  \\\n",
       "187                 3         straight-on     0.670977   0.670977   0.005959   \n",
       "188                 3         straight-on     0.659791   0.659791   0.022531   \n",
       "189                 3         straight-on     0.659791   0.659791   0.022531   \n",
       "190                 3         straight-on     0.659791   0.659791   0.022531   \n",
       "191                 3         straight-on     0.673730   0.673730   0.001881   \n",
       "192                 3         straight-on     0.673730   0.673730   0.001881   \n",
       "193                 3         straight-on     0.512639   0.512639   0.012351   \n",
       "194                 3         straight-on     0.516356   0.516356   0.005190   \n",
       "195                 3         straight-on     0.659265   0.659265   0.023311   \n",
       "196                 0          turn-right     0.967509   0.967509   0.007534   \n",
       "197                 0          turn-right     0.962370   0.962370   0.014227   \n",
       "\n",
       "     model_entropy  model_entropy_norm  model_correct  \n",
       "187       0.663293            0.603755          False  \n",
       "188       0.724107            0.659111          False  \n",
       "189       0.724107            0.659111          False  \n",
       "190       0.724107            0.659111          False  \n",
       "191       0.643080            0.585356          False  \n",
       "192       0.643080            0.585356          False  \n",
       "193       0.750412            0.683055          False  \n",
       "194       0.721310            0.656565          False  \n",
       "195       0.726541            0.661326          False  \n",
       "196       0.160892            0.146450           True  \n",
       "197       0.185290            0.168658           True  "
      ]
     },
     "execution_count": 16,
     "metadata": {},
     "output_type": "execute_result"
    }
   ],
   "source": [
    "lanelet_results.loc[lanelet_results.agent_id==75]"
   ]
  },
  {
   "cell_type": "markdown",
   "id": "d2d6abe0",
   "metadata": {},
   "source": [
    "Why does opendrive have more vehicles? e.g agent 1. \n",
    "Different goal locations? - yes\n",
    "Bicycles are also included - needs fixing\n",
    "\n",
    "Why are some agents included in lanelet2 but not odr? e.g. 75 - vehicle misses goal slightly to the right. Should goal detection be based on dist along lane rather than pointgoal? or increase goal radius to match lane width\n",
    "\n",
    "Baseline acc goes down at final point (1.0 of traj obs)"
   ]
  },
  {
   "cell_type": "code",
   "execution_count": 17,
   "id": "6c763284",
   "metadata": {},
   "outputs": [
    {
     "name": "stdout",
     "output_type": "stream",
     "text": [
      "/home/cillian/phd/projects/GRIT\n"
     ]
    }
   ],
   "source": [
    "%cd .."
   ]
  },
  {
   "cell_type": "code",
   "execution_count": 18,
   "id": "a4f0ac26",
   "metadata": {},
   "outputs": [],
   "source": [
    "scenario_name = 'frankenberg'\n",
    "scenario_map = Map.parse_from_opendrive(f\"scenarios/maps/{scenario_name}.xodr\")\n",
    "\n",
    "scenario_config = ScenarioConfig.load(f\"scenarios/configs/{scenario_name}.json\")\n",
    "scenario = InDScenario(scenario_config)"
   ]
  },
  {
   "cell_type": "code",
   "execution_count": 19,
   "id": "82a2c8ee",
   "metadata": {},
   "outputs": [],
   "source": [
    "episode_idx = 5\n",
    "episode = scenario.load_episode(episode_idx)\n",
    "agent = episode.agents[75]"
   ]
  },
  {
   "cell_type": "code",
   "execution_count": 20,
   "id": "229c3474",
   "metadata": {},
   "outputs": [
    {
     "data": {
      "text/plain": [
       "[<matplotlib.lines.Line2D at 0x7f02a34670a0>]"
      ]
     },
     "execution_count": 20,
     "metadata": {},
     "output_type": "execute_result"
    },
    {
     "data": {
      "image/png": "[encoded data removed]",
      "text/plain": [
       "<Figure size 720x432 with 1 Axes>"
      ]
     },
     "metadata": {
      "needs_background": "light"
     },
     "output_type": "display_data"
    }
   ],
   "source": [
    "fig, ax = plt.subplots(figsize=(10, 6))\n",
    "plot_map(scenario_map, ax=ax)\n",
    "path = agent.trajectory.path\n",
    "ax.plot(path[:, 0], path[:, 1])\n",
    "ax.plot(*scenario_config.goals[0], 'o')"
   ]
  },
  {
   "cell_type": "code",
   "execution_count": 21,
   "id": "904fdb56",
   "metadata": {},
   "outputs": [],
   "source": [
    "scenario_name = 'heckstrasse'\n",
    "scenario_map = Map.parse_from_opendrive(f\"scenarios/maps/{scenario_name}.xodr\")\n",
    "\n",
    "scenario_config = ScenarioConfig.load(f\"scenarios/configs/{scenario_name}.json\")\n",
    "scenario = InDScenario(scenario_config)"
   ]
  },
  {
   "cell_type": "code",
   "execution_count": 22,
   "id": "fc5bfb3d",
   "metadata": {},
   "outputs": [],
   "source": [
    "goal_detector = GoalDetector(scenario.config.goals)"
   ]
  },
  {
   "cell_type": "code",
   "execution_count": 23,
   "id": "648a56c9",
   "metadata": {},
   "outputs": [],
   "source": [
    "episode_idx = 0\n",
    "episode = scenario.load_episode(episode_idx)"
   ]
  },
  {
   "cell_type": "code",
   "execution_count": 24,
   "id": "bde930e2",
   "metadata": {},
   "outputs": [],
   "source": [
    "agent = episode.agents[0]"
   ]
  },
  {
   "cell_type": "code",
   "execution_count": 25,
   "id": "267e3e1a",
   "metadata": {},
   "outputs": [],
   "source": [
    "agent_goals, goal_frame_idxes = goal_detector.detect_goals(agent.trajectory)"
   ]
  },
  {
   "cell_type": "code",
   "execution_count": 26,
   "id": "fb70333b",
   "metadata": {},
   "outputs": [
    {
     "data": {
      "text/plain": [
       "[2]"
      ]
     },
     "execution_count": 26,
     "metadata": {},
     "output_type": "execute_result"
    }
   ],
   "source": [
    "agent_goals"
   ]
  },
  {
   "cell_type": "code",
   "execution_count": 27,
   "id": "5edc4dbb",
   "metadata": {},
   "outputs": [],
   "source": [
    "trajectory = agent.trajectory"
   ]
  },
  {
   "cell_type": "code",
   "execution_count": 28,
   "id": "9fa5bfd8",
   "metadata": {},
   "outputs": [],
   "source": [
    "feature_extractor = FeatureExtractor(scenario_map)"
   ]
  },
  {
   "cell_type": "code",
   "execution_count": 29,
   "id": "974da5df",
   "metadata": {},
   "outputs": [
    {
     "name": "stdout",
     "output_type": "stream",
     "text": [
      "0 [False, True, True]\n",
      "1 [False, True, True]\n",
      "2 [False, True, True]\n",
      "3 [False, True, True]\n",
      "4 [False, True, True]\n",
      "5 [False, True, True]\n",
      "6 [False, True, True]\n",
      "7 [False, True, True]\n",
      "8 [False, True, True]\n",
      "9 [False, True, True]\n",
      "10 [False, True, True]\n",
      "11 [False, True, True]\n",
      "12 [False, True, True]\n",
      "13 [False, True, True]\n",
      "14 [False, True, True]\n",
      "15 [False, True, True]\n",
      "16 [False, True, True]\n",
      "17 [False, True, True]\n",
      "18 [False, True, True]\n",
      "19 [False, True, True]\n",
      "20 [False, True, True]\n",
      "21 [False, True, True]\n",
      "22 [False, True, True]\n",
      "23 [False, True, True]\n",
      "24 [False, True, True]\n",
      "25 [False, True, True]\n",
      "26 [False, True, True]\n",
      "27 [False, True, True]\n",
      "28 [False, True, True]\n",
      "29 [False, True, True]\n",
      "30 [False, True, True]\n",
      "31 [False, True, True]\n",
      "32 [False, True, True]\n",
      "33 [False, True, True]\n",
      "34 [False, True, True]\n",
      "35 [False, True, True]\n",
      "36 [False, True, True]\n",
      "37 [False, True, True]\n",
      "38 [False, True, True]\n",
      "39 [False, True, True]\n",
      "40 [False, True, True]\n",
      "41 [False, True, True]\n",
      "42 [False, True, True]\n",
      "43 [False, True, True]\n",
      "44 [False, True, True]\n",
      "45 [False, True, True]\n",
      "46 [False, True, True]\n",
      "47 [False, True, True]\n",
      "48 [False, True, True]\n",
      "49 [False, True, True]\n",
      "50 [False, True, True]\n",
      "51 [False, True, True]\n",
      "52 [False, True, True]\n",
      "53 [False, True, True]\n",
      "54 [False, True, True]\n",
      "55 [False, True, True]\n",
      "56 [False, True, True]\n",
      "57 [False, True, True]\n",
      "58 [False, True, True]\n",
      "59 [False, True, True]\n",
      "60 [False, True, True]\n",
      "61 [False, True, True]\n",
      "62 [False, True, True]\n",
      "63 [False, True, True]\n",
      "64 [False, True, True]\n",
      "65 [False, True, True]\n",
      "66 [False, True, True]\n",
      "67 [False, True, True]\n",
      "68 [False, True, True]\n",
      "69 [False, True, True]\n",
      "70 [False, True, True]\n",
      "71 [False, True, True]\n",
      "72 [False, True, True]\n",
      "73 [False, True, True]\n",
      "74 [False, True, True]\n",
      "75 [False, True, True]\n",
      "76 [False, True, True]\n",
      "77 [False, True, True]\n",
      "78 [False, True, True]\n",
      "79 [False, True, True]\n",
      "80 [False, True, True]\n",
      "81 [False, True, True]\n",
      "82 [False, True, True]\n",
      "83 [False, True, True]\n",
      "84 [False, False, True]\n",
      "85 [False, False, True]\n",
      "86 [False, False, True]\n",
      "87 [False, False, True]\n",
      "88 [False, False, True]\n",
      "89 [False, False, True]\n",
      "90 [False, False, True]\n",
      "91 [False, False, True]\n",
      "92 [False, False, True]\n",
      "93 [False, False, True]\n",
      "94 [False, False, True]\n",
      "95 [False, False, True]\n",
      "96 [False, False, True]\n",
      "97 [False, False, True]\n",
      "98 [False, False, True]\n",
      "99 [False, False, True]\n",
      "100 [False, False, True]\n",
      "101 [False, False, True]\n",
      "102 [False, False, True]\n",
      "103 [False, False, True]\n",
      "104 [False, False, True]\n",
      "105 [False, False, True]\n",
      "106 [False, False, True]\n",
      "107 [False, False, True]\n",
      "108 [False, False, True]\n",
      "109 [False, False, True]\n",
      "110 [False, False, True]\n",
      "111 [False, False, True]\n",
      "112 [False, False, True]\n",
      "113 [False, False, True]\n",
      "114 [False, False, True]\n",
      "115 [False, False, True]\n",
      "116 [False, False, True]\n",
      "117 [False, False, True]\n",
      "118 [False, False, True]\n",
      "119 [False, False, True]\n",
      "120 [False, False, True]\n",
      "121 [False, False, True]\n",
      "122 [False, False, True]\n",
      "123 [False, False, True]\n",
      "124 [False, False, True]\n",
      "125 [False, False, True]\n",
      "126 [False, False, True]\n",
      "127 [False, False, True]\n",
      "128 [False, False, True]\n",
      "129 [False, False, True]\n",
      "130 [False, False, True]\n",
      "131 [False, False, True]\n",
      "132 [False, False, True]\n",
      "133 [False, False, True]\n",
      "134 [False, False, True]\n",
      "135 [False, False, True]\n",
      "136 [False, False, True]\n",
      "137 [False, False, True]\n",
      "138 [False, False, True]\n",
      "139 [False, False, True]\n",
      "140 [False, False, True]\n",
      "141 [False, False, True]\n",
      "142 [False, False, True]\n",
      "143 [False, False, True]\n",
      "144 [False, False, True]\n",
      "145 [False, False, True]\n",
      "146 [False, False, True]\n",
      "147 [False, False, True]\n",
      "148 [False, False, True]\n",
      "149 [False, False, True]\n",
      "150 [False, False, True]\n",
      "151 [False, False, True]\n",
      "152 [False, False, True]\n",
      "153 [False, False, True]\n",
      "154 [False, False, True]\n",
      "155 [False, False, True]\n",
      "156 [False, False, True]\n",
      "157 [False, False, True]\n",
      "158 [False, False, True]\n",
      "159 [False, False, True]\n",
      "160 [False, False, True]\n",
      "161 [False, False, True]\n",
      "162 [False, False, True]\n",
      "163 [False, False, True]\n",
      "164 [False, False, True]\n"
     ]
    }
   ],
   "source": [
    "for idx in range(0, len(agent.trajectory.path)):\n",
    "    typed_goals = feature_extractor.get_typed_goals(agent.trajectory.slice(0, idx+1), scenario.config.goals)\n",
    "    print(idx, [g is not None for g in typed_goals])"
   ]
  },
  {
   "cell_type": "code",
   "execution_count": 30,
   "id": "e3549507",
   "metadata": {},
   "outputs": [
    {
     "data": {
      "text/plain": [
       "[None,\n",
       " None,\n",
       " TypedGoal(goal_type='turn-left', goal=PointGoal(center=[[ 60.286 -18.64 ]], r=1.5545799999999999), lane_path=[Lane(id=-1) on Road(id=5)])]"
      ]
     },
     "execution_count": 30,
     "metadata": {},
     "output_type": "execute_result"
    }
   ],
   "source": [
    "typed_goals"
   ]
  },
  {
   "cell_type": "code",
   "execution_count": 31,
   "id": "9612686b",
   "metadata": {},
   "outputs": [
    {
     "data": {
      "text/plain": [
       "array([ 33.48256, -20.12529])"
      ]
     },
     "execution_count": 31,
     "metadata": {},
     "output_type": "execute_result"
    }
   ],
   "source": [
    "agent.trajectory.path[68]"
   ]
  },
  {
   "cell_type": "code",
   "execution_count": 32,
   "id": "0aa57942",
   "metadata": {},
   "outputs": [
    {
     "data": {
      "text/plain": [
       "[<matplotlib.lines.Line2D at 0x7f0290eef970>]"
      ]
     },
     "execution_count": 32,
     "metadata": {},
     "output_type": "execute_result"
    },
    {
     "data": {
      "image/png": "[encoded data removed]",
      "text/plain": [
       "<Figure size 432x288 with 1 Axes>"
      ]
     },
     "metadata": {
      "needs_background": "light"
     },
     "output_type": "display_data"
    }
   ],
   "source": [
    "ax = plot_map(scenario_map)\n",
    "ax.plot(*agent.trajectory.path[68], 'o')\n",
    "ax.plot([20],[-60], 'o')"
   ]
  },
  {
   "cell_type": "code",
   "execution_count": 33,
   "id": "ca0b2c60",
   "metadata": {},
   "outputs": [
    {
     "data": {
      "text/plain": [
       "[Lane(id=1) on Road(id=1), Lane(id=2) on Road(id=1), Lane(id=-1) on Road(id=1)]"
      ]
     },
     "execution_count": 33,
     "metadata": {},
     "output_type": "execute_result"
    }
   ],
   "source": [
    "scenario_map.lanes_at(agent.trajectory.path[0], max_distance=3)"
   ]
  },
  {
   "cell_type": "code",
   "execution_count": 34,
   "id": "545828b1",
   "metadata": {},
   "outputs": [
    {
     "name": "stdout",
     "output_type": "stream",
     "text": [
      "[Lane(id=1) on Road(id=1), Lane(id=2) on Road(id=1)]\n"
     ]
    }
   ],
   "source": [
    "lanes = scenario_map.lanes_within_angle(agent.trajectory.path[0],\n",
    "                                        agent.trajectory.heading[0],\n",
    "                                threshold=np.pi/4, max_distance=3)\n",
    "print(lanes)"
   ]
  },
  {
   "cell_type": "code",
   "execution_count": 35,
   "id": "a9a06edc",
   "metadata": {},
   "outputs": [
    {
     "data": {
      "image/png": "[encoded data removed]",
      "text/plain": [
       "<Figure size 432x288 with 1 Axes>"
      ]
     },
     "metadata": {
      "needs_background": "light"
     },
     "output_type": "display_data"
    }
   ],
   "source": [
    "ax = plot_map(scenario_map)\n",
    "for lane in lanes:\n",
    "    ax.plot(*list(zip(*[x for x in lane.midline.coords])))"
   ]
  },
  {
   "cell_type": "code",
   "execution_count": 36,
   "id": "6473b7de",
   "metadata": {},
   "outputs": [
    {
     "ename": "TypeError",
     "evalue": "best_lane_at() got an unexpected keyword argument 'goal_point'",
     "output_type": "error",
     "traceback": [
      "\u001b[0;31m---------------------------------------------------------------------------\u001b[0m",
      "\u001b[0;31mTypeError\u001b[0m                                 Traceback (most recent call last)",
      "\u001b[0;32m/tmp/ipykernel_166994/101520194.py\u001b[0m in \u001b[0;36m<module>\u001b[0;34m\u001b[0m\n\u001b[1;32m      1\u001b[0m \u001b[0mgoal_point\u001b[0m \u001b[0;34m=\u001b[0m \u001b[0mnp\u001b[0m\u001b[0;34m.\u001b[0m\u001b[0marray\u001b[0m\u001b[0;34m(\u001b[0m\u001b[0;34m(\u001b[0m\u001b[0;36m62.2\u001b[0m\u001b[0;34m,\u001b[0m \u001b[0;34m-\u001b[0m\u001b[0;36m47.3\u001b[0m\u001b[0;34m)\u001b[0m\u001b[0;34m)\u001b[0m\u001b[0;34m\u001b[0m\u001b[0;34m\u001b[0m\u001b[0m\n\u001b[1;32m      2\u001b[0m \u001b[0midx\u001b[0m \u001b[0;34m=\u001b[0m \u001b[0;36m70\u001b[0m\u001b[0;34m\u001b[0m\u001b[0;34m\u001b[0m\u001b[0m\n\u001b[0;32m----> 3\u001b[0;31m best_lane = scenario_map.best_lane_at(agent.trajectory.path[idx],\n\u001b[0m\u001b[1;32m      4\u001b[0m                                   \u001b[0magent\u001b[0m\u001b[0;34m.\u001b[0m\u001b[0mtrajectory\u001b[0m\u001b[0;34m.\u001b[0m\u001b[0mheading\u001b[0m\u001b[0;34m[\u001b[0m\u001b[0midx\u001b[0m\u001b[0;34m]\u001b[0m\u001b[0;34m,\u001b[0m\u001b[0;34m\u001b[0m\u001b[0;34m\u001b[0m\u001b[0m\n\u001b[1;32m      5\u001b[0m                                   max_distance=3, goal_point=goal_point)\n",
      "\u001b[0;31mTypeError\u001b[0m: best_lane_at() got an unexpected keyword argument 'goal_point'"
     ]
    }
   ],
   "source": [
    "goal_point = np.array((62.2, -47.3))\n",
    "idx = 70\n",
    "best_lane = scenario_map.best_lane_at(agent.trajectory.path[idx],\n",
    "                                  agent.trajectory.heading[idx],\n",
    "                                  max_distance=3, goal_point=goal_point)\n",
    "print(best_lane)"
   ]
  },
  {
   "cell_type": "code",
   "execution_count": null,
   "id": "784010b4",
   "metadata": {},
   "outputs": [],
   "source": [
    "ax = plot_map(scenario_map)\n",
    "ax.plot(*list(zip(*[x for x in best_lane.midline.coords])))"
   ]
  },
  {
   "cell_type": "code",
   "execution_count": null,
   "id": "aff59cc8",
   "metadata": {},
   "outputs": [],
   "source": [
    "data = pd.read_csv('data/heckstrasse_e0.csv')"
   ]
  },
  {
   "cell_type": "code",
   "execution_count": null,
   "id": "90aaddf4",
   "metadata": {},
   "outputs": [],
   "source": [
    "goals_10 = data.loc[data.fraction_observed==1.0].value_counts('agent_id')"
   ]
  },
  {
   "cell_type": "code",
   "execution_count": null,
   "id": "a5815c3d",
   "metadata": {},
   "outputs": [],
   "source": [
    "goals_09 = data.loc[data.fraction_observed==0.9].value_counts('agent_id')"
   ]
  },
  {
   "cell_type": "code",
   "execution_count": null,
   "id": "68b9d48d",
   "metadata": {},
   "outputs": [],
   "source": [
    "(goals_10 > goals_09).sum()"
   ]
  },
  {
   "cell_type": "code",
   "execution_count": null,
   "id": "36ba32ee",
   "metadata": {},
   "outputs": [],
   "source": [
    "predictions = pd.read_csv('predictions/heckstrasse_prior_baseline_test.csv')\n",
    "predictions"
   ]
  },
  {
   "cell_type": "code",
   "execution_count": null,
   "id": "bcdf4365",
   "metadata": {},
   "outputs": [],
   "source": [
    "predictions.loc[predictions.fraction_observed==1.0].model_correct.mean()"
   ]
  },
  {
   "cell_type": "code",
   "execution_count": null,
   "id": "99a20329",
   "metadata": {},
   "outputs": [],
   "source": [
    "predictions.loc[predictions.fraction_observed==0.9].model_correct.mean()"
   ]
  },
  {
   "cell_type": "code",
   "execution_count": null,
   "id": "ecc90995",
   "metadata": {},
   "outputs": [],
   "source": [
    "idx = predictions.loc[predictions.fraction_observed==0.9].set_index('agent_id').model_correct \\\n",
    "                      != predictions.loc[predictions.fraction_observed==1.0].set_index('agent_id').model_correct"
   ]
  },
  {
   "cell_type": "code",
   "execution_count": null,
   "id": "5329be8f",
   "metadata": {},
   "outputs": [],
   "source": [
    "idx.loc[idx]"
   ]
  },
  {
   "cell_type": "code",
   "execution_count": null,
   "id": "f0026a3c",
   "metadata": {},
   "outputs": [],
   "source": [
    "predictions.loc[predictions.agent_id==15]"
   ]
  },
  {
   "cell_type": "markdown",
   "id": "52c83c7c",
   "metadata": {},
   "source": [
    "Problem: Wrong goal type inferred at the last minute - why? G1 assigned goal type turn-left"
   ]
  },
  {
   "cell_type": "code",
   "execution_count": null,
   "id": "33d8a605",
   "metadata": {},
   "outputs": [],
   "source": [
    "data.loc[data.agent_id==15]"
   ]
  },
  {
   "cell_type": "code",
   "execution_count": null,
   "id": "41646abf",
   "metadata": {},
   "outputs": [],
   "source": [
    "# lane id -1 on road 6, heckstrasse - detected as goal G1 - this must be junction NE to SE\n",
    "# take into account trajectory history when detecting lane? Is this done for lanelet2 GRIT? e.g. previous lanelet"
   ]
  },
  {
   "cell_type": "code",
   "execution_count": null,
   "id": "dca49d23",
   "metadata": {},
   "outputs": [],
   "source": [
    "ax = plot_map(scenario_map)\n",
    "lane = scenario_map.get_lane(7, -1)\n",
    "ax.plot(*list(zip(*[x for x in lane.midline.coords])))\n",
    "ax.plot([36.0], [-27.0], 'o')"
   ]
  },
  {
   "cell_type": "code",
   "execution_count": null,
   "id": "1b932237",
   "metadata": {},
   "outputs": [],
   "source": [
    "heading = -0.6367160078810041\n",
    "speed = 15.915689301070186"
   ]
  },
  {
   "cell_type": "code",
   "execution_count": null,
   "id": "aef0bbb8",
   "metadata": {},
   "outputs": [],
   "source": [
    "scenario_name = 'round'\n",
    "scenario_map = Map.parse_from_opendrive(f\"scenarios/maps/{scenario_name}.xodr\")\n",
    "\n",
    "scenario_config = ScenarioConfig.load(f\"scenarios/configs/{scenario_name}.json\")\n",
    "scenario = InDScenario(scenario_config)"
   ]
  },
  {
   "cell_type": "code",
   "execution_count": null,
   "id": "562f69a7",
   "metadata": {},
   "outputs": [],
   "source": []
  },
  {
   "cell_type": "code",
   "execution_count": null,
   "id": "ba73cef1",
   "metadata": {},
   "outputs": [],
   "source": [
    "episode_idx = 0\n",
    "episode = scenario.load_episode(episode_idx)\n"
   ]
  },
  {
   "cell_type": "code",
   "execution_count": null,
   "id": "669490ad",
   "metadata": {},
   "outputs": [],
   "source": [
    "print(len(agent_goals))\n",
    "for g in agent_goals:\n",
    "    print(g)"
   ]
  },
  {
   "cell_type": "code",
   "execution_count": null,
   "id": "d09d656d",
   "metadata": {},
   "outputs": [],
   "source": [
    "pwd"
   ]
  },
  {
   "cell_type": "code",
   "execution_count": null,
   "id": "461bb787",
   "metadata": {},
   "outputs": [],
   "source": [
    "odr_results = pd.read_csv('predictions/round_trained_trees_test.csv')\n",
    "odr_results.shape"
   ]
  },
  {
   "cell_type": "code",
   "execution_count": null,
   "id": "469cc9c6",
   "metadata": {},
   "outputs": [],
   "source": [
    "lanelet_results = pd.read_csv('../GRIT-lanelet/predictions/round_trained_trees_test.csv')\n",
    "lanelet_results.shape"
   ]
  },
  {
   "cell_type": "code",
   "execution_count": null,
   "id": "f3b6afa8",
   "metadata": {},
   "outputs": [],
   "source": [
    "odr_results[['episode', 'agent_id', 'fraction_observed']]"
   ]
  },
  {
   "cell_type": "code",
   "execution_count": null,
   "id": "81c3c5cc",
   "metadata": {},
   "outputs": [],
   "source": [
    "# isin with multiple columns?"
   ]
  },
  {
   "cell_type": "code",
   "execution_count": null,
   "id": "3ddf5988",
   "metadata": {},
   "outputs": [],
   "source": [
    "episode = 4\n",
    "fraction_observerd = 0.8\n",
    "odr_samples = odr_results.loc[(odr_results.episode == episode) \n",
    "                & (odr_results.fraction_observed == fraction_observerd)].set_index('agent_id')\n",
    "lanelet_samples = lanelet_results.loc[(lanelet_results.episode == episode) \n",
    "                & (lanelet_results.fraction_observed == fraction_observerd)].set_index('agent_id')"
   ]
  },
  {
   "cell_type": "code",
   "execution_count": null,
   "id": "6b8a504f",
   "metadata": {},
   "outputs": [],
   "source": [
    "lanelet_samples"
   ]
  },
  {
   "cell_type": "code",
   "execution_count": null,
   "id": "292e4a22",
   "metadata": {},
   "outputs": [],
   "source": [
    "odr_samples"
   ]
  },
  {
   "cell_type": "code",
   "execution_count": null,
   "id": "34c15bac",
   "metadata": {},
   "outputs": [],
   "source": [
    "odr_samples = odr_samples.join(lanelet_samples.model_correct, rsuffix='_ll')"
   ]
  },
  {
   "cell_type": "code",
   "execution_count": null,
   "id": "9da4e0fa",
   "metadata": {
    "scrolled": true
   },
   "outputs": [],
   "source": [
    "odr_samples.loc[odr_samples.model_correct != odr_samples.model_correct_ll]"
   ]
  },
  {
   "cell_type": "code",
   "execution_count": null,
   "id": "8a6227b3",
   "metadata": {},
   "outputs": [],
   "source": []
  }
 ],
 "metadata": {
  "kernelspec": {
   "display_name": "igp2env",
   "language": "python",
   "name": "igp2env"
  },
  "language_info": {
   "codemirror_mode": {
    "name": "ipython",
    "version": 3
   },
   "file_extension": ".py",
   "mimetype": "text/x-python",
   "name": "python",
   "nbconvert_exporter": "python",
   "pygments_lexer": "ipython3",
   "version": "3.8.5"
  }
 },
 "nbformat": 4,
 "nbformat_minor": 5
}
