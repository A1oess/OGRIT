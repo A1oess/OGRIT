{
 "cells": [
  {
   "cell_type": "code",
   "execution_count": 1,
   "id": "c0b0722a",
   "metadata": {},
   "outputs": [
    {
     "name": "stdout",
     "output_type": "stream",
     "text": [
      "/home/cillian/phd/projects/GRIT/core/feature_extraction.py\n"
     ]
    }
   ],
   "source": [
    "import pandas as pd\n",
    "import numpy as np\n",
    "import matplotlib.pyplot as plt\n",
    "\n",
    "from igp2 import AgentState\n",
    "from igp2.data.data_loaders import InDDataLoader\n",
    "from igp2.data.episode import Frame\n",
    "from igp2.data.scenario import InDScenario, ScenarioConfig\n",
    "from igp2.opendrive.map import Map\n",
    "from igp2.opendrive.plot_map import plot_map\n",
    "from core.feature_extraction import FeatureExtractor, GoalDetector\n",
    "from core.goal_generator import GoalGenerator\n",
    "from core import feature_extraction\n",
    "print(feature_extraction.__file__)"
   ]
  },
  {
   "cell_type": "code",
   "execution_count": null,
   "id": "581f8c51",
   "metadata": {},
   "outputs": [],
   "source": [
    "# TODO - check out dips in accuracy e.g. GRIT uniform prior 0.1 -> 0.2"
   ]
  }
 ],
 "metadata": {
  "kernelspec": {
   "display_name": "igp2env",
   "language": "python",
   "name": "igp2env"
  },
  "language_info": {
   "codemirror_mode": {
    "name": "ipython",
    "version": 3
   },
   "file_extension": ".py",
   "mimetype": "text/x-python",
   "name": "python",
   "nbconvert_exporter": "python",
   "pygments_lexer": "ipython3",
   "version": "3.8.5"
  }
 },
 "nbformat": 4,
 "nbformat_minor": 5
}
